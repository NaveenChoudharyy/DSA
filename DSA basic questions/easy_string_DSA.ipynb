{
 "cells": [
  {
   "cell_type": "markdown",
   "id": "77c3c54d",
   "metadata": {},
   "source": [
    "# STRING DSA"
   ]
  },
  {
   "cell_type": "markdown",
   "id": "d4086303",
   "metadata": {},
   "source": [
    "#"
   ]
  },
  {
   "cell_type": "markdown",
   "id": "86ccb3d3",
   "metadata": {},
   "source": [
    "Reverse a String:\n",
    "Write a function to reverse a given string.\n",
    "\n",
    "Count Vowels:\n",
    "Create a function that counts the number of vowels (a, e, i, o, u) in a given string.\n",
    "\n",
    "Palindrome Check:\n",
    "Write a function to determine whether a given string is a palindrome (reads the same backward as forward).\n",
    "\n",
    "String Concatenation:\n",
    "Given two strings, concatenate them and return the result.\n",
    "\n",
    "String Length:\n",
    "Write a function to find the length of a given string without using any built-in functions.\n",
    "\n",
    "Substring Check:\n",
    "Write a function that checks if a given substring is present in a given string.\n",
    "\n",
    "Duplicate Characters:\n",
    "Find and display the duplicate characters in a given string.\n",
    "\n",
    "Anagram Check:\n",
    "Write a function to check if two strings are anagrams of each other.\n",
    "\n",
    "Replace Spaces:\n",
    "Write a function to replace all spaces in a string with '%20'.\n",
    "\n",
    "Character Frequency:\n",
    "Create a function that counts the frequency of each character in a given string."
   ]
  },
  {
   "cell_type": "markdown",
   "id": "ec738b48",
   "metadata": {},
   "source": [
    "# "
   ]
  },
  {
   "cell_type": "markdown",
   "id": "d3b85c3b",
   "metadata": {},
   "source": [
    "# Sort Sting:\n",
    "Write a code to sort the string in any order."
   ]
  },
  {
   "cell_type": "code",
   "execution_count": 19,
   "id": "ddbf2b1f",
   "metadata": {},
   "outputs": [],
   "source": [
    "string = 'this is A Bunch of brillent words that I have spoken?'"
   ]
  },
  {
   "cell_type": "code",
   "execution_count": 20,
   "id": "2c1dd4ec",
   "metadata": {},
   "outputs": [],
   "source": [
    "# This will be sorted as per ASCII table.\n",
    "# We can check the ASCII value by using function ord()\n",
    "\n",
    "def sort_string(input_string):\n",
    "    output_string = ''\n",
    "    length = 0\n",
    "    input_string = input_string.lower()\n",
    "    char_list = list(input_string)\n",
    "    for i in input_string:\n",
    "        length += 1\n",
    "        \n",
    "        # Will use bubble sort for this\n",
    "        \n",
    "    for j in range(length):\n",
    "        for k in range(0, length -j -1):\n",
    "            if char_list[k] > char_list[k+1]:\n",
    "                char_list[k], char_list[k+1] = char_list[k+1], char_list[k]\n",
    "    output_string = ''.join(char_list)\n",
    "    return output_string"
   ]
  },
  {
   "cell_type": "code",
   "execution_count": 21,
   "id": "528fc853",
   "metadata": {},
   "outputs": [
    {
     "data": {
      "text/plain": [
       "'          ?aaabbcdeeefhhhhiiiikllnnnoooprrssssttttuvw'"
      ]
     },
     "execution_count": 21,
     "metadata": {},
     "output_type": "execute_result"
    }
   ],
   "source": [
    "sort_string(string)"
   ]
  },
  {
   "cell_type": "markdown",
   "id": "88a51709",
   "metadata": {},
   "source": [
    "#"
   ]
  },
  {
   "cell_type": "markdown",
   "id": "250f9eb5",
   "metadata": {},
   "source": [
    "### Reverse a String:\n",
    "Write a function to reverse a given string."
   ]
  },
  {
   "cell_type": "code",
   "execution_count": 22,
   "id": "9c60683e",
   "metadata": {},
   "outputs": [],
   "source": [
    "a = 'python'"
   ]
  },
  {
   "cell_type": "code",
   "execution_count": 23,
   "id": "617d5109",
   "metadata": {},
   "outputs": [],
   "source": [
    "def Rev_str(x):\n",
    "    return x[::-1]"
   ]
  },
  {
   "cell_type": "code",
   "execution_count": 24,
   "id": "f9ad0501",
   "metadata": {},
   "outputs": [
    {
     "data": {
      "text/plain": [
       "'nohtyp'"
      ]
     },
     "execution_count": 24,
     "metadata": {},
     "output_type": "execute_result"
    }
   ],
   "source": [
    "Rev_str(a)"
   ]
  },
  {
   "cell_type": "code",
   "execution_count": 25,
   "id": "7107fb75",
   "metadata": {},
   "outputs": [],
   "source": [
    "b = 'my name is naveen'"
   ]
  },
  {
   "cell_type": "code",
   "execution_count": 26,
   "id": "855e8399",
   "metadata": {},
   "outputs": [],
   "source": [
    "def rev_string_words(input_string):\n",
    "    output_string = ''\n",
    "    word = ''\n",
    "    for i in input_string:\n",
    "        if i.isspace():\n",
    "            output_string = word + ' ' + output_string\n",
    "            word = ''\n",
    "        else:\n",
    "            word += i\n",
    "    output_string = word + ' ' + output_string\n",
    "    return output_string[:-1]"
   ]
  },
  {
   "cell_type": "code",
   "execution_count": 27,
   "id": "e0e57a7e",
   "metadata": {},
   "outputs": [
    {
     "data": {
      "text/plain": [
       "'naveen is name my'"
      ]
     },
     "execution_count": 27,
     "metadata": {},
     "output_type": "execute_result"
    }
   ],
   "source": [
    "rev_string_words(b)"
   ]
  },
  {
   "cell_type": "markdown",
   "id": "6e10ecda",
   "metadata": {},
   "source": [
    "#"
   ]
  },
  {
   "cell_type": "markdown",
   "id": "e99858a4",
   "metadata": {},
   "source": [
    "### Count Vowels: \n",
    "Create a function that counts the number of vowels (a, e, i, o, u) in a given string."
   ]
  },
  {
   "cell_type": "code",
   "execution_count": 4,
   "id": "9fa21e05",
   "metadata": {},
   "outputs": [],
   "source": [
    "c = 'Laptop'"
   ]
  },
  {
   "cell_type": "code",
   "execution_count": 5,
   "id": "c09cafc8",
   "metadata": {},
   "outputs": [],
   "source": [
    "def count_vovels(input_string):\n",
    "    vov = 'aeiou'\n",
    "    cnt = 0\n",
    "    input_string = input_string.lower()\n",
    "    for i in input_string:\n",
    "        if i in vov:\n",
    "            cnt += 1\n",
    "    return cnt"
   ]
  },
  {
   "cell_type": "code",
   "execution_count": 6,
   "id": "d76e5efc",
   "metadata": {},
   "outputs": [
    {
     "data": {
      "text/plain": [
       "2"
      ]
     },
     "execution_count": 6,
     "metadata": {},
     "output_type": "execute_result"
    }
   ],
   "source": [
    "count_vovels(c)"
   ]
  },
  {
   "cell_type": "markdown",
   "id": "85893709",
   "metadata": {},
   "source": [
    "#"
   ]
  },
  {
   "cell_type": "markdown",
   "id": "d469bf2f",
   "metadata": {},
   "source": [
    "### Palindrome Check: \n",
    "Write a function to determine whether a given string is a palindrome (reads the same backward as forward)."
   ]
  },
  {
   "cell_type": "code",
   "execution_count": 31,
   "id": "65105045",
   "metadata": {},
   "outputs": [],
   "source": [
    "d1 = 'radar'\n",
    "d2 = 'words'"
   ]
  },
  {
   "cell_type": "code",
   "execution_count": 32,
   "id": "5609f7fb",
   "metadata": {},
   "outputs": [],
   "source": [
    "def palindrome_check(input_string):\n",
    "    input_string = input_string.lower()\n",
    "    if input_string == input_string[::-1]:\n",
    "        print(input_string, 'is palindrome')\n",
    "    else:\n",
    "        print(input_string, 'is not palindrome')\n",
    "    "
   ]
  },
  {
   "cell_type": "code",
   "execution_count": 33,
   "id": "a3248f21",
   "metadata": {},
   "outputs": [
    {
     "name": "stdout",
     "output_type": "stream",
     "text": [
      "radar is palindrome\n",
      "words is not palindrome\n"
     ]
    }
   ],
   "source": [
    "palindrome_check(d1)\n",
    "palindrome_check(d2)"
   ]
  },
  {
   "cell_type": "markdown",
   "id": "dd62951a",
   "metadata": {},
   "source": [
    "# "
   ]
  },
  {
   "cell_type": "markdown",
   "id": "3a4e6075",
   "metadata": {},
   "source": [
    "### String Concatenation: \n",
    "Given two strings, concatenate them and return the result."
   ]
  },
  {
   "cell_type": "code",
   "execution_count": 34,
   "id": "6b5de147",
   "metadata": {},
   "outputs": [],
   "source": [
    "d1 = 'radar'\n",
    "d2 = 'words'"
   ]
  },
  {
   "cell_type": "code",
   "execution_count": 35,
   "id": "0bd49799",
   "metadata": {},
   "outputs": [],
   "source": [
    "def concat_string(input_string_1, input_string_2):\n",
    "    return input_string_1 + input_string_2"
   ]
  },
  {
   "cell_type": "code",
   "execution_count": 36,
   "id": "d5f18dc3",
   "metadata": {},
   "outputs": [
    {
     "data": {
      "text/plain": [
       "'radarwords'"
      ]
     },
     "execution_count": 36,
     "metadata": {},
     "output_type": "execute_result"
    }
   ],
   "source": [
    "concat_string(d1, d2)"
   ]
  },
  {
   "cell_type": "markdown",
   "id": "aeb69167",
   "metadata": {},
   "source": [
    "# "
   ]
  },
  {
   "cell_type": "markdown",
   "id": "0ff95125",
   "metadata": {},
   "source": [
    "### String Length: \n",
    "Write a function to find the length of a given string without using any built-in functions."
   ]
  },
  {
   "cell_type": "code",
   "execution_count": 37,
   "id": "216d7c4a",
   "metadata": {},
   "outputs": [],
   "source": [
    "b ='my name is naveen'"
   ]
  },
  {
   "cell_type": "code",
   "execution_count": 38,
   "id": "e8dad334",
   "metadata": {},
   "outputs": [],
   "source": [
    "def string_length(input_string):\n",
    "    count = 0\n",
    "    for char in input_string:\n",
    "        count += 1\n",
    "    return count"
   ]
  },
  {
   "cell_type": "code",
   "execution_count": 39,
   "id": "c3d58203",
   "metadata": {},
   "outputs": [
    {
     "data": {
      "text/plain": [
       "17"
      ]
     },
     "execution_count": 39,
     "metadata": {},
     "output_type": "execute_result"
    }
   ],
   "source": [
    "string_length(b)"
   ]
  },
  {
   "cell_type": "markdown",
   "id": "b245ced7",
   "metadata": {},
   "source": [
    "# "
   ]
  },
  {
   "cell_type": "markdown",
   "id": "98b7bf0f",
   "metadata": {},
   "source": [
    "### Substring Check: \n",
    "Write a function that checks if a given substring is present in a given string."
   ]
  },
  {
   "cell_type": "code",
   "execution_count": 40,
   "id": "a93ca3ab",
   "metadata": {},
   "outputs": [],
   "source": [
    "e ='is'\n",
    "b = 'my name is naveen'"
   ]
  },
  {
   "cell_type": "code",
   "execution_count": 41,
   "id": "16402922",
   "metadata": {},
   "outputs": [],
   "source": [
    "def substring_check(input_string, input_substring):\n",
    "    if input_substring in input_string:\n",
    "        print('substring present in string')\n",
    "    else:\n",
    "        print('substring not present in string')"
   ]
  },
  {
   "cell_type": "code",
   "execution_count": 42,
   "id": "abb76838",
   "metadata": {},
   "outputs": [
    {
     "name": "stdout",
     "output_type": "stream",
     "text": [
      "substring present in string\n"
     ]
    }
   ],
   "source": [
    "substring_check(b, e)"
   ]
  },
  {
   "cell_type": "markdown",
   "id": "dd63897c",
   "metadata": {},
   "source": [
    "#"
   ]
  },
  {
   "cell_type": "markdown",
   "id": "a55781df",
   "metadata": {},
   "source": [
    "### Duplicate Characters: \n",
    "Find and display the duplicate characters in a given string."
   ]
  },
  {
   "cell_type": "code",
   "execution_count": 43,
   "id": "193e331d",
   "metadata": {},
   "outputs": [],
   "source": [
    "b = 'my name is naveen'"
   ]
  },
  {
   "cell_type": "code",
   "execution_count": 44,
   "id": "57a90eb1",
   "metadata": {},
   "outputs": [],
   "source": [
    "def duplicate_characters(input_string):\n",
    "    output = {}\n",
    "    for i in input_string:\n",
    "        if i in output:\n",
    "            output[i] += 1\n",
    "        else:\n",
    "            output[i] = 1\n",
    "    output = {i: x for i, x in output.items() if x > 1}\n",
    "    \n",
    "    return output"
   ]
  },
  {
   "cell_type": "code",
   "execution_count": 45,
   "id": "01dba704",
   "metadata": {},
   "outputs": [
    {
     "data": {
      "text/plain": [
       "{'m': 2, ' ': 3, 'n': 3, 'a': 2, 'e': 3}"
      ]
     },
     "execution_count": 45,
     "metadata": {},
     "output_type": "execute_result"
    }
   ],
   "source": [
    "duplicate_characters(b)"
   ]
  },
  {
   "cell_type": "markdown",
   "id": "6ab71ad2",
   "metadata": {},
   "source": [
    "#"
   ]
  },
  {
   "cell_type": "markdown",
   "id": "1ebd71e4",
   "metadata": {},
   "source": [
    "### Anagram Check: \n",
    "Write a function to check if two strings are anagrams of each other."
   ]
  },
  {
   "cell_type": "code",
   "execution_count": 46,
   "id": "5137c0f8",
   "metadata": {},
   "outputs": [],
   "source": [
    "f1 = 'nighT'\n",
    "f2 = 'thIngd'"
   ]
  },
  {
   "cell_type": "code",
   "execution_count": 47,
   "id": "35951631",
   "metadata": {},
   "outputs": [],
   "source": [
    "def check_anagrams(input_string_1, input_string_2):\n",
    "    input_string_1 = input_string_1.lower()\n",
    "    input_string_2 = input_string_2.lower()\n",
    "    dictionary_1 = {}\n",
    "    dictionary_2 = {}\n",
    "\n",
    "    for i in input_string_1:\n",
    "        if i in dictionary_1:\n",
    "            dictionary_1[i] += 1\n",
    "        else:\n",
    "            dictionary_1[i] = 1\n",
    "    for i in input_string_2:\n",
    "        if i in dictionary_2:\n",
    "            dictionary_2[i] += 1\n",
    "        else:\n",
    "            dictionary_2[i] = 1\n",
    "    if sorted(dictionary_1.keys()) == sorted(dictionary_2.keys()) and sorted(dictionary_1.values()) == sorted(dictionary_2.values()):\n",
    "        print('Anagrams')\n",
    "    else:\n",
    "        print('Not Anagrams')\n",
    "        "
   ]
  },
  {
   "cell_type": "code",
   "execution_count": 48,
   "id": "b4cf3708",
   "metadata": {},
   "outputs": [
    {
     "name": "stdout",
     "output_type": "stream",
     "text": [
      "Not Anagrams\n"
     ]
    }
   ],
   "source": [
    "check_anagrams(f1, f2)"
   ]
  },
  {
   "cell_type": "markdown",
   "id": "7a65456d",
   "metadata": {},
   "source": [
    "#"
   ]
  },
  {
   "cell_type": "markdown",
   "id": "c09c480b",
   "metadata": {},
   "source": [
    "### Replace Spaces: \n",
    "Write a function to replace all spaces in a string with '%20'."
   ]
  },
  {
   "cell_type": "code",
   "execution_count": 49,
   "id": "e44225e0",
   "metadata": {},
   "outputs": [],
   "source": [
    "b = 'my name is naveen'"
   ]
  },
  {
   "cell_type": "code",
   "execution_count": 50,
   "id": "a2b27800",
   "metadata": {},
   "outputs": [],
   "source": [
    "def replace_spaces(input_string):\n",
    "    output_string = ''\n",
    "    for i in input_string:\n",
    "        if i.isspace() == True:\n",
    "            i = '%20'\n",
    "        output_string += i\n",
    "    return output_string\n",
    "        "
   ]
  },
  {
   "cell_type": "code",
   "execution_count": 51,
   "id": "01a15d77",
   "metadata": {},
   "outputs": [
    {
     "data": {
      "text/plain": [
       "'my%20name%20is%20naveen'"
      ]
     },
     "execution_count": 51,
     "metadata": {},
     "output_type": "execute_result"
    }
   ],
   "source": [
    "replace_spaces(b)"
   ]
  },
  {
   "cell_type": "markdown",
   "id": "d2a0b074",
   "metadata": {},
   "source": [
    "#"
   ]
  },
  {
   "cell_type": "markdown",
   "id": "224522bb",
   "metadata": {},
   "source": [
    "### Character Frequency: \n",
    "Create a function that counts the frequency of each character in a given string."
   ]
  },
  {
   "cell_type": "code",
   "execution_count": 52,
   "id": "a120be7b",
   "metadata": {},
   "outputs": [],
   "source": [
    "b = 'my name is naveen'"
   ]
  },
  {
   "cell_type": "code",
   "execution_count": 53,
   "id": "a264ebe1",
   "metadata": {},
   "outputs": [],
   "source": [
    "def char_freq(input_string):\n",
    "    dict = {}\n",
    "    for i in input_string:\n",
    "        if i in dict:\n",
    "            dict[i] += 1\n",
    "        else:\n",
    "            dict[i] = 1\n",
    "    return dict"
   ]
  },
  {
   "cell_type": "code",
   "execution_count": 54,
   "id": "42202d3d",
   "metadata": {},
   "outputs": [
    {
     "data": {
      "text/plain": [
       "{'m': 2, 'y': 1, ' ': 3, 'n': 3, 'a': 2, 'e': 3, 'i': 1, 's': 1, 'v': 1}"
      ]
     },
     "execution_count": 54,
     "metadata": {},
     "output_type": "execute_result"
    }
   ],
   "source": [
    "char_freq(b)"
   ]
  },
  {
   "cell_type": "code",
   "execution_count": null,
   "id": "53cdd632",
   "metadata": {},
   "outputs": [],
   "source": []
  },
  {
   "cell_type": "code",
   "execution_count": null,
   "id": "efc86a46",
   "metadata": {},
   "outputs": [],
   "source": []
  },
  {
   "cell_type": "code",
   "execution_count": null,
   "id": "715c59e1",
   "metadata": {},
   "outputs": [],
   "source": []
  }
 ],
 "metadata": {
  "kernelspec": {
   "display_name": "Python 3 (ipykernel)",
   "language": "python",
   "name": "python3"
  },
  "language_info": {
   "codemirror_mode": {
    "name": "ipython",
    "version": 3
   },
   "file_extension": ".py",
   "mimetype": "text/x-python",
   "name": "python",
   "nbconvert_exporter": "python",
   "pygments_lexer": "ipython3",
   "version": "3.10.9"
  }
 },
 "nbformat": 4,
 "nbformat_minor": 5
}
