{
 "cells": [
  {
   "cell_type": "markdown",
   "id": "d0627d5b",
   "metadata": {},
   "source": [
    "# Array DSA"
   ]
  },
  {
   "cell_type": "raw",
   "id": "84fadbea",
   "metadata": {},
   "source": [
    "Sum of Array Elements:\n",
    "Write a function to calculate the sum of all elements in an array.\n",
    "\n",
    "Maximum Element:\n",
    "Find the maximum element in an array.\n",
    "\n",
    "Array Rotation:\n",
    "Rotate the elements of an array to the right by a given number of positions.\n",
    "\n",
    "Array Reversal:\n",
    "Reverse the elements of an array in-place.\n",
    "\n",
    "Array Search:\n",
    "Given an array and a target element, write a function to find the index of the target element in the array.\n",
    "\n",
    "Even/Odd Count:\n",
    "Count the number of even and odd elements in an array.\n",
    "\n",
    "Remove Duplicates:\n",
    "Remove duplicate elements from an array and return the new array.\n",
    "\n",
    "Array Intersection:\n",
    "Given two arrays, find and return their intersection.\n",
    "\n",
    "Second Largest Element:\n",
    "Find and return the second largest element in an array.\n",
    "\n",
    "Array Sorting:\n",
    "Write a function to sort the elements of an array in ascending order."
   ]
  },
  {
   "cell_type": "code",
   "execution_count": 1,
   "id": "c977075d",
   "metadata": {},
   "outputs": [],
   "source": [
    "# Second Largest Element-- how to find nth largest"
   ]
  },
  {
   "cell_type": "markdown",
   "id": "4c703fa8",
   "metadata": {},
   "source": [
    "# "
   ]
  },
  {
   "cell_type": "markdown",
   "id": "51110299",
   "metadata": {},
   "source": [
    "### Sum of Array Elements:\n",
    "Write a function to calculate the sum of all elements in an array."
   ]
  },
  {
   "cell_type": "code",
   "execution_count": 2,
   "id": "16c751f1",
   "metadata": {},
   "outputs": [],
   "source": [
    "a = [30,40,10,20,30,65,95]"
   ]
  },
  {
   "cell_type": "code",
   "execution_count": 3,
   "id": "27555590",
   "metadata": {},
   "outputs": [],
   "source": [
    "def sum_arr(arr):\n",
    "    output = 0\n",
    "    for i in arr:\n",
    "        output += i\n",
    "    return output"
   ]
  },
  {
   "cell_type": "code",
   "execution_count": 4,
   "id": "778834d1",
   "metadata": {},
   "outputs": [
    {
     "data": {
      "text/plain": [
       "290"
      ]
     },
     "execution_count": 4,
     "metadata": {},
     "output_type": "execute_result"
    }
   ],
   "source": [
    "sum_arr(a)"
   ]
  },
  {
   "cell_type": "markdown",
   "id": "e08b9f31",
   "metadata": {},
   "source": [
    "#"
   ]
  },
  {
   "cell_type": "markdown",
   "id": "6332642e",
   "metadata": {},
   "source": [
    "### Maximum Element:\n",
    "Find the maximum element in an array."
   ]
  },
  {
   "cell_type": "code",
   "execution_count": 5,
   "id": "150a000c",
   "metadata": {},
   "outputs": [],
   "source": [
    "def max_num(arr):\n",
    "    val = 0\n",
    "    for i in arr:\n",
    "        if val < i:\n",
    "            val = i\n",
    "    return val"
   ]
  },
  {
   "cell_type": "code",
   "execution_count": 6,
   "id": "e95ae429",
   "metadata": {},
   "outputs": [
    {
     "data": {
      "text/plain": [
       "95"
      ]
     },
     "execution_count": 6,
     "metadata": {},
     "output_type": "execute_result"
    }
   ],
   "source": [
    "max_num(a)"
   ]
  },
  {
   "cell_type": "markdown",
   "id": "b6af9c07",
   "metadata": {},
   "source": [
    "#"
   ]
  },
  {
   "cell_type": "markdown",
   "id": "aa5120fe",
   "metadata": {},
   "source": [
    "### Array Rotation:\n",
    "Rotate the elements of an array to the right by a given number of positions."
   ]
  },
  {
   "cell_type": "code",
   "execution_count": 7,
   "id": "231f9222",
   "metadata": {},
   "outputs": [],
   "source": [
    "def rotate_by_position(arr, k):\n",
    "    # k is number of position\n",
    "    new_arr = []\n",
    "    count = 0\n",
    "    for i in arr:\n",
    "        count +=1\n",
    "    new_arr = arr[count-k:] + arr[:count-k]\n",
    "    return new_arr"
   ]
  },
  {
   "cell_type": "code",
   "execution_count": 8,
   "id": "687b66eb",
   "metadata": {},
   "outputs": [
    {
     "data": {
      "text/plain": [
       "[30, 65, 95, 30, 40, 10, 20]"
      ]
     },
     "execution_count": 8,
     "metadata": {},
     "output_type": "execute_result"
    }
   ],
   "source": [
    "rotate_by_position(a,3)"
   ]
  },
  {
   "cell_type": "markdown",
   "id": "38446990",
   "metadata": {},
   "source": [
    "#"
   ]
  },
  {
   "cell_type": "markdown",
   "id": "b5767e69",
   "metadata": {},
   "source": [
    "### Array Reversal:\n",
    "Reverse the elements of an array in-place."
   ]
  },
  {
   "cell_type": "code",
   "execution_count": 9,
   "id": "af5645f1",
   "metadata": {},
   "outputs": [
    {
     "data": {
      "text/plain": [
       "[30, 40, 10, 20, 30, 65, 95]"
      ]
     },
     "execution_count": 9,
     "metadata": {},
     "output_type": "execute_result"
    }
   ],
   "source": [
    "a"
   ]
  },
  {
   "cell_type": "code",
   "execution_count": 10,
   "id": "534b4493",
   "metadata": {},
   "outputs": [],
   "source": [
    "def reverse_elements(arr):\n",
    "    output = arr[::-1]\n",
    "    return output"
   ]
  },
  {
   "cell_type": "code",
   "execution_count": 11,
   "id": "0e4bcbbf",
   "metadata": {},
   "outputs": [
    {
     "data": {
      "text/plain": [
       "[95, 65, 30, 20, 10, 40, 30]"
      ]
     },
     "execution_count": 11,
     "metadata": {},
     "output_type": "execute_result"
    }
   ],
   "source": [
    "reverse_elements(a)"
   ]
  },
  {
   "cell_type": "markdown",
   "id": "eb8d0534",
   "metadata": {},
   "source": [
    "#"
   ]
  },
  {
   "cell_type": "markdown",
   "id": "f4a9df80",
   "metadata": {},
   "source": [
    "### Array Search:\n",
    "Given an array and a target element, write a function to find the index of the target element in the array."
   ]
  },
  {
   "cell_type": "code",
   "execution_count": 12,
   "id": "85379387",
   "metadata": {},
   "outputs": [
    {
     "data": {
      "text/plain": [
       "[30, 40, 10, 20, 30, 65, 95]"
      ]
     },
     "execution_count": 12,
     "metadata": {},
     "output_type": "execute_result"
    }
   ],
   "source": [
    "a"
   ]
  },
  {
   "cell_type": "code",
   "execution_count": 13,
   "id": "54276c8e",
   "metadata": {},
   "outputs": [],
   "source": [
    "def target_element(arr, k):\n",
    "    output = []\n",
    "    count = 0\n",
    "    for i in arr:\n",
    "        count += 1\n",
    "    \n",
    "    if 0<= k <count:\n",
    "        output = arr[k]\n",
    "        return output\n",
    "    else:\n",
    "        return 'out of range'"
   ]
  },
  {
   "cell_type": "code",
   "execution_count": 14,
   "id": "8852608e",
   "metadata": {},
   "outputs": [
    {
     "data": {
      "text/plain": [
       "40"
      ]
     },
     "execution_count": 14,
     "metadata": {},
     "output_type": "execute_result"
    }
   ],
   "source": [
    "target_element(a, 1)"
   ]
  },
  {
   "cell_type": "markdown",
   "id": "ca76d944",
   "metadata": {},
   "source": [
    "# "
   ]
  },
  {
   "cell_type": "markdown",
   "id": "99d23806",
   "metadata": {},
   "source": [
    "### Even/Odd Count:\n",
    "Count the number of even and odd elements in an array."
   ]
  },
  {
   "cell_type": "code",
   "execution_count": 15,
   "id": "f4b39d55",
   "metadata": {},
   "outputs": [
    {
     "data": {
      "text/plain": [
       "[30, 40, 10, 20, 30, 65, 95]"
      ]
     },
     "execution_count": 15,
     "metadata": {},
     "output_type": "execute_result"
    }
   ],
   "source": [
    "a"
   ]
  },
  {
   "cell_type": "code",
   "execution_count": 16,
   "id": "9ba64ac8",
   "metadata": {},
   "outputs": [],
   "source": [
    "def count_odd_even(arr):\n",
    "    output = {'odd': 0, 'even': 0}\n",
    "    \n",
    "    for i in arr:\n",
    "        if i % 2 == 1:\n",
    "            output['odd'] += 1\n",
    "        else:\n",
    "            output['even'] += 1\n",
    "    return output\n",
    "            "
   ]
  },
  {
   "cell_type": "code",
   "execution_count": 17,
   "id": "b9be9757",
   "metadata": {},
   "outputs": [
    {
     "data": {
      "text/plain": [
       "{'odd': 2, 'even': 5}"
      ]
     },
     "execution_count": 17,
     "metadata": {},
     "output_type": "execute_result"
    }
   ],
   "source": [
    "count_odd_even(a)"
   ]
  },
  {
   "cell_type": "markdown",
   "id": "5d5f3506",
   "metadata": {},
   "source": [
    "# "
   ]
  },
  {
   "cell_type": "markdown",
   "id": "9d284d30",
   "metadata": {},
   "source": [
    "### Remove Duplicates:\n",
    "Remove duplicate elements from an array and return the new array."
   ]
  },
  {
   "cell_type": "code",
   "execution_count": 18,
   "id": "ff5de6d2",
   "metadata": {},
   "outputs": [
    {
     "data": {
      "text/plain": [
       "[30, 40, 10, 20, 30, 65, 95]"
      ]
     },
     "execution_count": 18,
     "metadata": {},
     "output_type": "execute_result"
    }
   ],
   "source": [
    "a"
   ]
  },
  {
   "cell_type": "code",
   "execution_count": 19,
   "id": "dd193114",
   "metadata": {},
   "outputs": [],
   "source": [
    "def remove_dup(arr):\n",
    "    output = []\n",
    "    for i in arr:\n",
    "        if i not in output:\n",
    "            output.append(i)\n",
    "    return output"
   ]
  },
  {
   "cell_type": "code",
   "execution_count": 20,
   "id": "4c88fe39",
   "metadata": {},
   "outputs": [
    {
     "data": {
      "text/plain": [
       "[30, 40, 10, 20, 65, 95]"
      ]
     },
     "execution_count": 20,
     "metadata": {},
     "output_type": "execute_result"
    }
   ],
   "source": [
    "remove_dup(a)"
   ]
  },
  {
   "cell_type": "markdown",
   "id": "367eff7d",
   "metadata": {},
   "source": [
    "# "
   ]
  },
  {
   "cell_type": "markdown",
   "id": "76cc091f",
   "metadata": {},
   "source": [
    "### Array Intersection:\n",
    "Given two arrays, find and return their intersection."
   ]
  },
  {
   "cell_type": "code",
   "execution_count": 21,
   "id": "7bcb2a9c",
   "metadata": {},
   "outputs": [
    {
     "name": "stdout",
     "output_type": "stream",
     "text": [
      "[30, 40, 10, 20, 30, 65, 95] [10, 20, 50, 100, 200]\n"
     ]
    }
   ],
   "source": [
    "b = [10,20,50,100,200]\n",
    "c=[1000]\n",
    "print(a, b)"
   ]
  },
  {
   "cell_type": "code",
   "execution_count": 22,
   "id": "0384d0e6",
   "metadata": {},
   "outputs": [],
   "source": [
    "def intersection(arr1, arr2):\n",
    "    output = []\n",
    "    for i in arr1:\n",
    "        if i in arr2:\n",
    "            output.append(i)\n",
    "    test =0\n",
    "    for i in output:\n",
    "        test += 1\n",
    "    if test != 0:\n",
    "        return output\n",
    "    else:\n",
    "        return 'No intersaction'"
   ]
  },
  {
   "cell_type": "code",
   "execution_count": 23,
   "id": "507dba0e",
   "metadata": {},
   "outputs": [
    {
     "data": {
      "text/plain": [
       "'No intersaction'"
      ]
     },
     "execution_count": 23,
     "metadata": {},
     "output_type": "execute_result"
    }
   ],
   "source": [
    "intersection(a,c)"
   ]
  },
  {
   "cell_type": "markdown",
   "id": "b6cd0982",
   "metadata": {},
   "source": [
    "#"
   ]
  },
  {
   "cell_type": "markdown",
   "id": "2b3e8b5a",
   "metadata": {},
   "source": [
    "### Second Largest Element:\n",
    "Find and return the second largest element in an array."
   ]
  },
  {
   "cell_type": "code",
   "execution_count": 24,
   "id": "529f704d",
   "metadata": {},
   "outputs": [],
   "source": [
    "a =[10, 20, 30, 30, 85, 40, 65, 95]"
   ]
  },
  {
   "cell_type": "code",
   "execution_count": 25,
   "id": "a97c53e5",
   "metadata": {},
   "outputs": [],
   "source": [
    "def second_largest(arr):\n",
    "    val_1 = float('-inf')\n",
    "    val_2 = float('-inf')\n",
    "    for i in arr:\n",
    "        if val_1 < i:\n",
    "            val_2 = val_1\n",
    "            val_1 = i\n",
    "        elif val_1 >= i and i != val_1:\n",
    "            val_2 = i\n",
    "    return val_2"
   ]
  },
  {
   "cell_type": "code",
   "execution_count": 26,
   "id": "ed947ffc",
   "metadata": {},
   "outputs": [
    {
     "data": {
      "text/plain": [
       "85"
      ]
     },
     "execution_count": 26,
     "metadata": {},
     "output_type": "execute_result"
    }
   ],
   "source": [
    "second_largest(a)"
   ]
  },
  {
   "cell_type": "markdown",
   "id": "cca2a3b4",
   "metadata": {},
   "source": [
    "# "
   ]
  },
  {
   "cell_type": "markdown",
   "id": "19bac93c",
   "metadata": {},
   "source": [
    "### Array Sorting:\n",
    "Write a function to sort the elements of an array in ascending order."
   ]
  },
  {
   "cell_type": "code",
   "execution_count": 27,
   "id": "b2c03191",
   "metadata": {},
   "outputs": [
    {
     "data": {
      "text/plain": [
       "[10, 20, 30, 30, 85, 40, 65, 95]"
      ]
     },
     "execution_count": 27,
     "metadata": {},
     "output_type": "execute_result"
    }
   ],
   "source": [
    "a"
   ]
  },
  {
   "cell_type": "code",
   "execution_count": 28,
   "id": "a52d6b53",
   "metadata": {},
   "outputs": [],
   "source": [
    "def arr_sorthing(arr):\n",
    "    val = 0\n",
    "    for i in arr:\n",
    "        val += 1\n",
    "    \n",
    "    for i in range(val):\n",
    "        for j in range(val-i-1):\n",
    "            if arr[j] > arr[j+1]:\n",
    "                arr[j], arr[j+1] = arr[j+1], arr[j]\n",
    "    return arr"
   ]
  },
  {
   "cell_type": "code",
   "execution_count": 29,
   "id": "64cfd1f3",
   "metadata": {},
   "outputs": [
    {
     "data": {
      "text/plain": [
       "[10, 20, 30, 30, 40, 65, 85, 95]"
      ]
     },
     "execution_count": 29,
     "metadata": {},
     "output_type": "execute_result"
    }
   ],
   "source": [
    "arr_sorthing(a)"
   ]
  }
 ],
 "metadata": {
  "kernelspec": {
   "display_name": "Python 3 (ipykernel)",
   "language": "python",
   "name": "python3"
  },
  "language_info": {
   "codemirror_mode": {
    "name": "ipython",
    "version": 3
   },
   "file_extension": ".py",
   "mimetype": "text/x-python",
   "name": "python",
   "nbconvert_exporter": "python",
   "pygments_lexer": "ipython3",
   "version": "3.10.9"
  }
 },
 "nbformat": 4,
 "nbformat_minor": 5
}
