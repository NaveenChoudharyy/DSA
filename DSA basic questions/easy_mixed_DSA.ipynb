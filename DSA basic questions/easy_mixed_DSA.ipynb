{
 "cells": [
  {
   "cell_type": "markdown",
   "id": "7c367557",
   "metadata": {},
   "source": [
    "## DSA mixed easy questions \n",
    "\n",
    "### List Operations:\n",
    "\n",
    "1. Given a list of numbers, write a function to calculate the sum of all elements.\n",
    "2. Implement a function to find the maximum value in a list of integers.\n",
    "3. Write a function to remove duplicate elements from a list.\n",
    "\n",
    "### String Manipulation:\n",
    "\n",
    "1. Create a function to reverse a string.\n",
    "2. Implement a function to count the occurrences of each character in a given string.\n",
    "3. Write a program to check if two strings are anagrams.\n",
    "4. Remove duplicate from string\n",
    "\n",
    "### Sorting:\n",
    "\n",
    "1. Sort a list of integers in ascending order using the bubble sort algorithm.\n",
    "2. Implement a function to find the kth smallest element in an unsorted list.\n",
    "\n",
    "\n",
    "### Data Transformation:\n",
    "\n",
    "1. Given a dictionary representing student grades, write a function to calculate the average grade.\n",
    "2. Implement a function to convert a list of Celsius temperatures to Fahrenheit.\n",
    "\n",
    "### Basic Statistics:\n",
    "\n",
    "1. Create a function to calculate the mean of a list of numbers.\n",
    "2. Write a program to find the median of a list of integers.\n",
    "\n",
    "### Data Cleaning:\n",
    "\n",
    "1. Implement a function to remove missing values from a list or dataset.\n",
    "2. Write a program to replace outliers in a numerical dataset with the mean value.\n",
    "\n",
    "### Hashing:\n",
    "\n",
    "2. Write a program to detect duplicate elements in an array using hashing.\n",
    "\n",
    "### Recursion:\n",
    "\n",
    "1. Write a recursive function to calculate the factorial of a number.\n",
    "2. Implement a recursive algorithm to find the nth Fibonacci number."
   ]
  },
  {
   "cell_type": "code",
   "execution_count": 1,
   "id": "aa124306",
   "metadata": {},
   "outputs": [],
   "source": [
    "# G - using sorted\n",
    "# P - How to get percentile."
   ]
  },
  {
   "cell_type": "code",
   "execution_count": 2,
   "id": "569223c0",
   "metadata": {},
   "outputs": [],
   "source": [
    "a = [1,2,3,4,5]"
   ]
  },
  {
   "cell_type": "markdown",
   "id": "0ffb8f39",
   "metadata": {},
   "source": [
    "# "
   ]
  },
  {
   "cell_type": "markdown",
   "id": "75b3f8d0",
   "metadata": {},
   "source": [
    "# 1. List Operations:"
   ]
  },
  {
   "cell_type": "markdown",
   "id": "42df4a58",
   "metadata": {},
   "source": [
    "### A. Given a list of numbers, write a function to calculate the sum of all elements."
   ]
  },
  {
   "cell_type": "code",
   "execution_count": 3,
   "id": "b23e69f6",
   "metadata": {},
   "outputs": [],
   "source": [
    "a = [1,-6,37,0,93, 1, -3,-57,4,-3]"
   ]
  },
  {
   "cell_type": "code",
   "execution_count": 4,
   "id": "e90752d4",
   "metadata": {},
   "outputs": [],
   "source": [
    "def sum_nums(a):\n",
    "    a1 = 0\n",
    "    for i in a:\n",
    "        a1 += i\n",
    "    return a1"
   ]
  },
  {
   "cell_type": "code",
   "execution_count": 5,
   "id": "be8c336b",
   "metadata": {},
   "outputs": [
    {
     "data": {
      "text/plain": [
       "67"
      ]
     },
     "execution_count": 5,
     "metadata": {},
     "output_type": "execute_result"
    }
   ],
   "source": [
    "sum_nums(a)"
   ]
  },
  {
   "cell_type": "markdown",
   "id": "5e5546ab",
   "metadata": {},
   "source": [
    "### B. Implement a function to find the maximum value in a list of integers."
   ]
  },
  {
   "cell_type": "code",
   "execution_count": 6,
   "id": "b061b6d4",
   "metadata": {},
   "outputs": [],
   "source": [
    "def max_val(a):\n",
    "    b1 = a[0]\n",
    "    for i in a:\n",
    "        if b1 < i:\n",
    "            b1 = i\n",
    "        else:\n",
    "            b1 = b1\n",
    "    return b1"
   ]
  },
  {
   "cell_type": "code",
   "execution_count": 7,
   "id": "ed03f1eb",
   "metadata": {},
   "outputs": [
    {
     "data": {
      "text/plain": [
       "93"
      ]
     },
     "execution_count": 7,
     "metadata": {},
     "output_type": "execute_result"
    }
   ],
   "source": [
    "max_val(a)"
   ]
  },
  {
   "cell_type": "markdown",
   "id": "3bcbeb09",
   "metadata": {},
   "source": [
    "### C. Write a function to remove duplicate elements from a list."
   ]
  },
  {
   "cell_type": "code",
   "execution_count": 8,
   "id": "1c48a03c",
   "metadata": {},
   "outputs": [],
   "source": [
    "def drop_dup_from_list(a):\n",
    "    c1 = []\n",
    "    for i in range(len(a)):\n",
    "        if a[i] not in c1:\n",
    "            c1.append(a[i])\n",
    "        else:\n",
    "            c1 = c1\n",
    "    return c1"
   ]
  },
  {
   "cell_type": "code",
   "execution_count": 9,
   "id": "80020286",
   "metadata": {},
   "outputs": [
    {
     "data": {
      "text/plain": [
       "[1, -6, 37, 0, 93, -3, -57, 4]"
      ]
     },
     "execution_count": 9,
     "metadata": {},
     "output_type": "execute_result"
    }
   ],
   "source": [
    "drop_dup_from_list(a)"
   ]
  },
  {
   "cell_type": "markdown",
   "id": "6f45849a",
   "metadata": {},
   "source": [
    "# "
   ]
  },
  {
   "cell_type": "markdown",
   "id": "73a634eb",
   "metadata": {},
   "source": [
    "# String Manipulation:"
   ]
  },
  {
   "cell_type": "markdown",
   "id": "c6f14d04",
   "metadata": {},
   "source": [
    "### D. Remove duplicate from string"
   ]
  },
  {
   "cell_type": "code",
   "execution_count": 10,
   "id": "9b59591f",
   "metadata": {},
   "outputs": [],
   "source": [
    "d = 'pyyYtHOoNNNnN'"
   ]
  },
  {
   "cell_type": "code",
   "execution_count": 11,
   "id": "b0935d34",
   "metadata": {},
   "outputs": [],
   "source": [
    "def remove_duplicates(d):\n",
    "    d1 = ''\n",
    "    for i in d:\n",
    "        if i not in d1:\n",
    "            d1 += i\n",
    "        else:\n",
    "            d1 = d1\n",
    "    return d1"
   ]
  },
  {
   "cell_type": "code",
   "execution_count": 12,
   "id": "cb8e3173",
   "metadata": {},
   "outputs": [
    {
     "data": {
      "text/plain": [
       "'pyYtHOoNn'"
      ]
     },
     "execution_count": 12,
     "metadata": {},
     "output_type": "execute_result"
    }
   ],
   "source": [
    "remove_duplicates(d)"
   ]
  },
  {
   "cell_type": "markdown",
   "id": "dc8c94fe",
   "metadata": {},
   "source": [
    "### E. Create a function to reverse a string."
   ]
  },
  {
   "cell_type": "code",
   "execution_count": 13,
   "id": "23053308",
   "metadata": {},
   "outputs": [],
   "source": [
    "d = 'pyyYtHOoNNNnN'"
   ]
  },
  {
   "cell_type": "code",
   "execution_count": 14,
   "id": "ac10120e",
   "metadata": {},
   "outputs": [],
   "source": [
    "def reverse_string(a):\n",
    "    e1 = ''\n",
    "    for i in list(range(len(d)+1)):\n",
    "        if  i == 0:\n",
    "            e1 = ''\n",
    "        else:\n",
    "            e1 += a[-i]\n",
    "    return e1"
   ]
  },
  {
   "cell_type": "code",
   "execution_count": 15,
   "id": "c276f3f6",
   "metadata": {},
   "outputs": [
    {
     "data": {
      "text/plain": [
       "'NnNNNoOHtYyyp'"
      ]
     },
     "execution_count": 15,
     "metadata": {},
     "output_type": "execute_result"
    }
   ],
   "source": [
    "reverse_string(d)"
   ]
  },
  {
   "cell_type": "code",
   "execution_count": 16,
   "id": "c4e9258e",
   "metadata": {},
   "outputs": [
    {
     "data": {
      "text/plain": [
       "'NnNNNoOHtYyyp'"
      ]
     },
     "execution_count": 16,
     "metadata": {},
     "output_type": "execute_result"
    }
   ],
   "source": [
    "d[::-1]"
   ]
  },
  {
   "cell_type": "markdown",
   "id": "76440447",
   "metadata": {},
   "source": [
    "### E2. Create a function to reverse a words of string."
   ]
  },
  {
   "cell_type": "code",
   "execution_count": 1,
   "id": "813ae78a",
   "metadata": {},
   "outputs": [],
   "source": [
    "e2 = 'How are you'"
   ]
  },
  {
   "cell_type": "code",
   "execution_count": 2,
   "id": "fb865648",
   "metadata": {},
   "outputs": [],
   "source": [
    "def rev_string_words(input_string):\n",
    "    output_string = ''\n",
    "    word = ''\n",
    "    for i in input_string:\n",
    "        if i.isspace():\n",
    "            output_string = word + ' ' + output_string\n",
    "            word = ''\n",
    "        else:\n",
    "            word += i\n",
    "    output_string = word + ' ' + output_string\n",
    "    return output_string[:-1]"
   ]
  },
  {
   "cell_type": "code",
   "execution_count": 3,
   "id": "ba5a2a21",
   "metadata": {},
   "outputs": [
    {
     "data": {
      "text/plain": [
       "'you are How'"
      ]
     },
     "execution_count": 3,
     "metadata": {},
     "output_type": "execute_result"
    }
   ],
   "source": [
    "rev_string_words(e2)"
   ]
  },
  {
   "cell_type": "markdown",
   "id": "4b40225e",
   "metadata": {},
   "source": [
    "### F. Implement a function to count the occurrences of each character in a given string."
   ]
  },
  {
   "cell_type": "code",
   "execution_count": 20,
   "id": "ccf3372f",
   "metadata": {},
   "outputs": [],
   "source": [
    "def count_char_from_string(a):\n",
    "    f1 = {}\n",
    "    for i in a:\n",
    "        if i in f1:\n",
    "            f1[i] += 1\n",
    "        else:\n",
    "            f1[i] = 1\n",
    "    return f1"
   ]
  },
  {
   "cell_type": "code",
   "execution_count": 21,
   "id": "ae4e85e1",
   "metadata": {},
   "outputs": [
    {
     "data": {
      "text/plain": [
       "{'p': 1, 'y': 2, 'Y': 1, 't': 1, 'H': 1, 'O': 1, 'o': 1, 'N': 4, 'n': 1}"
      ]
     },
     "execution_count": 21,
     "metadata": {},
     "output_type": "execute_result"
    }
   ],
   "source": [
    "count_char_from_string(d)"
   ]
  },
  {
   "cell_type": "markdown",
   "id": "6565552b",
   "metadata": {},
   "source": [
    "### G. Write a program to check if two strings are anagrams."
   ]
  },
  {
   "cell_type": "code",
   "execution_count": 22,
   "id": "13f916bd",
   "metadata": {},
   "outputs": [],
   "source": [
    "g1 = 'du ssty'\n",
    "g2 = 'stUdyS '"
   ]
  },
  {
   "cell_type": "code",
   "execution_count": 23,
   "id": "8ba36d66",
   "metadata": {},
   "outputs": [],
   "source": [
    "def check_anagrams(string_1, string_2):\n",
    "    g1 = {}\n",
    "    g2 = {}\n",
    "    string_1 = string_1.lower()\n",
    "    string_2 = string_2.lower()\n",
    "    for i in string_1:\n",
    "        if i in g1:\n",
    "            g1[i] += 1\n",
    "        else:\n",
    "            g1[i] = 1\n",
    "    for x in string_2:\n",
    "        if x in g2:\n",
    "            g2[x] += 1\n",
    "        else:\n",
    "            g2[x] = 1\n",
    "    if sorted(g1.keys()) == sorted(g2.keys()) and sorted(g1.values()) == sorted(g2.values()):\n",
    "        print('Anagrams')\n",
    "    else:\n",
    "        print('Not anagrams')"
   ]
  },
  {
   "cell_type": "code",
   "execution_count": 24,
   "id": "cf901e0e",
   "metadata": {},
   "outputs": [
    {
     "name": "stdout",
     "output_type": "stream",
     "text": [
      "Anagrams\n"
     ]
    }
   ],
   "source": [
    "check_anagrams(g1, g2)"
   ]
  },
  {
   "cell_type": "markdown",
   "id": "278ca5ba",
   "metadata": {},
   "source": [
    "### H. Remove duplicate from string."
   ]
  },
  {
   "cell_type": "code",
   "execution_count": 25,
   "id": "95cc2cc2",
   "metadata": {},
   "outputs": [],
   "source": [
    "h = 'nnnNNNNave    ??'"
   ]
  },
  {
   "cell_type": "code",
   "execution_count": 26,
   "id": "6a006d62",
   "metadata": {},
   "outputs": [],
   "source": [
    "def remove_dup_from_string(string):\n",
    "    x = ''\n",
    "    for i in string:\n",
    "        if i not in x:\n",
    "            x += i\n",
    "        else:\n",
    "            x = x\n",
    "    return x"
   ]
  },
  {
   "cell_type": "code",
   "execution_count": 27,
   "id": "c8d68cc4",
   "metadata": {},
   "outputs": [
    {
     "data": {
      "text/plain": [
       "'nNave ?'"
      ]
     },
     "execution_count": 27,
     "metadata": {},
     "output_type": "execute_result"
    }
   ],
   "source": [
    "remove_dup_from_string(h)"
   ]
  },
  {
   "cell_type": "markdown",
   "id": "c5331935",
   "metadata": {},
   "source": [
    "#"
   ]
  },
  {
   "cell_type": "markdown",
   "id": "b4832800",
   "metadata": {},
   "source": [
    "# Sorting:"
   ]
  },
  {
   "cell_type": "markdown",
   "id": "bdf3efaf",
   "metadata": {},
   "source": [
    "### I. Sort a list of integers in ascending order using various algorithm."
   ]
  },
  {
   "cell_type": "markdown",
   "id": "9a896915",
   "metadata": {},
   "source": [
    "###### bubble sort"
   ]
  },
  {
   "cell_type": "code",
   "execution_count": 28,
   "id": "8ce2eecb",
   "metadata": {},
   "outputs": [],
   "source": [
    "i = [1,3,5,7,2,4,5,8,0,2]"
   ]
  },
  {
   "cell_type": "code",
   "execution_count": 29,
   "id": "3d2c5826",
   "metadata": {},
   "outputs": [],
   "source": [
    "def bubble_sort(unsorted_list):\n",
    "    for i in range(len(unsorted_list)):\n",
    "        # if data is already sorted, we will not check those by using len(unsorted_list) - i -1\n",
    "        for j in range(0, len(unsorted_list) - i -1):\n",
    "            if unsorted_list[j] > unsorted_list[j+1]:\n",
    "                unsorted_list[j], unsorted_list[j+1] = unsorted_list[j+1], unsorted_list[j]\n",
    "    print(unsorted_list)"
   ]
  },
  {
   "cell_type": "code",
   "execution_count": 30,
   "id": "181b013a",
   "metadata": {},
   "outputs": [
    {
     "name": "stdout",
     "output_type": "stream",
     "text": [
      "[0, 1, 2, 2, 3, 4, 5, 5, 7, 8]\n"
     ]
    }
   ],
   "source": [
    "bubble_sort(i)"
   ]
  },
  {
   "cell_type": "markdown",
   "id": "765eeb5e",
   "metadata": {},
   "source": [
    "###### Insertion sort"
   ]
  },
  {
   "cell_type": "code",
   "execution_count": 31,
   "id": "a483a032",
   "metadata": {},
   "outputs": [
    {
     "data": {
      "text/plain": [
       "[9, 3, 5, 7, 2, 4, 5, 8, 0, 2]"
      ]
     },
     "execution_count": 31,
     "metadata": {},
     "output_type": "execute_result"
    }
   ],
   "source": [
    "i2 = [9,3,5,7,2,4,5,8,0,2]\n",
    "i2"
   ]
  },
  {
   "cell_type": "code",
   "execution_count": 32,
   "id": "675519ca",
   "metadata": {},
   "outputs": [],
   "source": [
    "def inter_sort(list):\n",
    "    for i in range(1,len(list)):\n",
    "        j = i\n",
    "        while j > 0 and list[j] < list[j-1]:\n",
    "            list[j-1], list[j] = list[j], list[j-1]\n",
    "            j -= 1\n",
    "    print(list)"
   ]
  },
  {
   "cell_type": "code",
   "execution_count": 33,
   "id": "2b48072f",
   "metadata": {},
   "outputs": [
    {
     "name": "stdout",
     "output_type": "stream",
     "text": [
      "[0, 2, 2, 3, 4, 5, 5, 7, 8, 9]\n"
     ]
    }
   ],
   "source": [
    "inter_sort(i2)"
   ]
  },
  {
   "cell_type": "markdown",
   "id": "feab01ed",
   "metadata": {},
   "source": [
    "### J. Implement a function to find the kth smallest element in an unsorted list."
   ]
  },
  {
   "cell_type": "code",
   "execution_count": 34,
   "id": "a15c6bec",
   "metadata": {},
   "outputs": [
    {
     "data": {
      "text/plain": [
       "[0, 1, 2, 2, 3, 4, 5, 5, 7, 8]"
      ]
     },
     "execution_count": 34,
     "metadata": {},
     "output_type": "execute_result"
    }
   ],
   "source": [
    "i"
   ]
  },
  {
   "cell_type": "code",
   "execution_count": 35,
   "id": "8a66265b",
   "metadata": {},
   "outputs": [],
   "source": [
    "def find_kth_smallest(arr, k):\n",
    "    if 0 < k <= len(arr):\n",
    "        sorted_arr = sorted(arr)\n",
    "        return sorted_arr[k-1]\n",
    "    else:\n",
    "        return None"
   ]
  },
  {
   "cell_type": "code",
   "execution_count": 36,
   "id": "86689d90",
   "metadata": {},
   "outputs": [
    {
     "data": {
      "text/plain": [
       "5"
      ]
     },
     "execution_count": 36,
     "metadata": {},
     "output_type": "execute_result"
    }
   ],
   "source": [
    "find_kth_smallest(i, 7)"
   ]
  },
  {
   "cell_type": "markdown",
   "id": "9057b233",
   "metadata": {},
   "source": [
    "#"
   ]
  },
  {
   "cell_type": "markdown",
   "id": "b850460a",
   "metadata": {},
   "source": [
    "# Basic Statistics:"
   ]
  },
  {
   "cell_type": "markdown",
   "id": "00c64619",
   "metadata": {},
   "source": [
    "### K. Create a function to calculate the mean of a list of numbers."
   ]
  },
  {
   "cell_type": "code",
   "execution_count": 37,
   "id": "5ce64f8e",
   "metadata": {},
   "outputs": [],
   "source": [
    "k = [45,23,87,1,31]"
   ]
  },
  {
   "cell_type": "code",
   "execution_count": 38,
   "id": "4b1e027f",
   "metadata": {},
   "outputs": [],
   "source": [
    "def mean_of_list(list):\n",
    "    if len(list) > 0:\n",
    "        k = 0\n",
    "        for i in list:\n",
    "            k +=i\n",
    "        return k/len(list)\n",
    "    else:\n",
    "        print('empty list')\n",
    "    "
   ]
  },
  {
   "cell_type": "code",
   "execution_count": 39,
   "id": "b4bde89c",
   "metadata": {},
   "outputs": [
    {
     "data": {
      "text/plain": [
       "37.4"
      ]
     },
     "execution_count": 39,
     "metadata": {},
     "output_type": "execute_result"
    }
   ],
   "source": [
    "mean_of_list(k)"
   ]
  },
  {
   "cell_type": "markdown",
   "id": "b80834fe",
   "metadata": {},
   "source": [
    "### L. Write a program to find the median of a list of integers."
   ]
  },
  {
   "cell_type": "code",
   "execution_count": 40,
   "id": "5719e96d",
   "metadata": {},
   "outputs": [],
   "source": [
    "l = [1,8,6,3,1]"
   ]
  },
  {
   "cell_type": "code",
   "execution_count": 41,
   "id": "beff2db0",
   "metadata": {},
   "outputs": [],
   "source": [
    "# using bubble sort then finding median\n",
    "\n",
    "\n",
    "def median_of_list(list):\n",
    "    for i in range(len(list)):\n",
    "        for j in range(0, len(list)-i-1):\n",
    "            if list[j] > list[j+1]:\n",
    "                list[j], list[j+1] = list[j+1], list[j]\n",
    "    if len(list) % 2 == 1:\n",
    "        return (list[(len(list)//2)])\n",
    "    else:\n",
    "        return ((list[len(list)//2 - 1] + list[len(list)//2])/2)"
   ]
  },
  {
   "cell_type": "code",
   "execution_count": 42,
   "id": "c059b8cc",
   "metadata": {},
   "outputs": [
    {
     "data": {
      "text/plain": [
       "3"
      ]
     },
     "execution_count": 42,
     "metadata": {},
     "output_type": "execute_result"
    }
   ],
   "source": [
    "median_of_list(l)"
   ]
  },
  {
   "cell_type": "code",
   "execution_count": 43,
   "id": "40cd978d",
   "metadata": {},
   "outputs": [
    {
     "data": {
      "text/plain": [
       "3"
      ]
     },
     "execution_count": 43,
     "metadata": {},
     "output_type": "execute_result"
    }
   ],
   "source": [
    "5//2+1"
   ]
  },
  {
   "cell_type": "code",
   "execution_count": 44,
   "id": "739b007d",
   "metadata": {},
   "outputs": [
    {
     "data": {
      "text/plain": [
       "(10, 4, 16, 5, 11)"
      ]
     },
     "execution_count": 44,
     "metadata": {},
     "output_type": "execute_result"
    }
   ],
   "source": [
    "10,4,16,5,11"
   ]
  },
  {
   "cell_type": "code",
   "execution_count": 45,
   "id": "1fbf84ef",
   "metadata": {},
   "outputs": [
    {
     "data": {
      "text/plain": [
       "(4, 10, 16, 5, 11)"
      ]
     },
     "execution_count": 45,
     "metadata": {},
     "output_type": "execute_result"
    }
   ],
   "source": [
    "4,10,16,5,11"
   ]
  },
  {
   "cell_type": "code",
   "execution_count": 46,
   "id": "99124990",
   "metadata": {},
   "outputs": [
    {
     "data": {
      "text/plain": [
       "(4, 5, 10, 16, 11)"
      ]
     },
     "execution_count": 46,
     "metadata": {},
     "output_type": "execute_result"
    }
   ],
   "source": [
    "4,5, 10,16,11"
   ]
  },
  {
   "cell_type": "code",
   "execution_count": 47,
   "id": "736518a6",
   "metadata": {},
   "outputs": [
    {
     "data": {
      "text/plain": [
       "(4, 5, 10, 11, 16)"
      ]
     },
     "execution_count": 47,
     "metadata": {},
     "output_type": "execute_result"
    }
   ],
   "source": [
    "4,5, 10,11,16"
   ]
  },
  {
   "cell_type": "markdown",
   "id": "b7f73ea2",
   "metadata": {},
   "source": [
    "#"
   ]
  },
  {
   "cell_type": "markdown",
   "id": "feae2e93",
   "metadata": {},
   "source": [
    "# Hashing:"
   ]
  },
  {
   "cell_type": "markdown",
   "id": "33b6be22",
   "metadata": {},
   "source": [
    "### M. Implement a hash function for a simple key-value store."
   ]
  },
  {
   "cell_type": "code",
   "execution_count": 48,
   "id": "b88fc886",
   "metadata": {},
   "outputs": [],
   "source": [
    "# Not solved"
   ]
  },
  {
   "cell_type": "markdown",
   "id": "4b78d0c7",
   "metadata": {},
   "source": [
    "### N. Write a program to detect duplicate elements in an array using hashing."
   ]
  },
  {
   "cell_type": "code",
   "execution_count": 49,
   "id": "99f68f91",
   "metadata": {},
   "outputs": [],
   "source": [
    "n = [1,1,'d','d', '', '', 9, 'q']"
   ]
  },
  {
   "cell_type": "code",
   "execution_count": 50,
   "id": "87dca144",
   "metadata": {},
   "outputs": [],
   "source": [
    "def is_dup(arr):\n",
    "    not_dup = set()\n",
    "    dup= set()\n",
    "    for i in arr:\n",
    "        if i not in not_dup:\n",
    "            not_dup.add(i)\n",
    "        else:\n",
    "            dup.add(i)\n",
    "    return dup\n"
   ]
  },
  {
   "cell_type": "code",
   "execution_count": 51,
   "id": "656de6c7",
   "metadata": {},
   "outputs": [
    {
     "data": {
      "text/plain": [
       "{'', 1, 'd'}"
      ]
     },
     "execution_count": 51,
     "metadata": {},
     "output_type": "execute_result"
    }
   ],
   "source": [
    "is_dup(n)"
   ]
  },
  {
   "cell_type": "markdown",
   "id": "ecc374bc",
   "metadata": {},
   "source": [
    "# "
   ]
  },
  {
   "cell_type": "markdown",
   "id": "d8e9a7f6",
   "metadata": {},
   "source": [
    "# Data Cleaning:"
   ]
  },
  {
   "cell_type": "markdown",
   "id": "36081061",
   "metadata": {},
   "source": [
    "# O. Implement a function to remove missing values from a list or dataset."
   ]
  },
  {
   "cell_type": "code",
   "execution_count": 52,
   "id": "e09d5c05",
   "metadata": {},
   "outputs": [],
   "source": [
    "import numpy as np"
   ]
  },
  {
   "cell_type": "code",
   "execution_count": 53,
   "id": "daba0dd0",
   "metadata": {},
   "outputs": [],
   "source": [
    "o = [1.1, 1, 's6', 'r', '', ' ', np.nan, None, np.NaN]"
   ]
  },
  {
   "cell_type": "code",
   "execution_count": 54,
   "id": "527f00a8",
   "metadata": {},
   "outputs": [],
   "source": [
    "def remove_missing(o):\n",
    "    x =[]\n",
    "    for i in o:\n",
    "        if i is not None and i is not np.nan:\n",
    "            x.append(i)\n",
    "    return x"
   ]
  },
  {
   "cell_type": "code",
   "execution_count": 55,
   "id": "a7cd8fcf",
   "metadata": {},
   "outputs": [
    {
     "data": {
      "text/plain": [
       "[1.1, 1, 's6', 'r', '', ' ']"
      ]
     },
     "execution_count": 55,
     "metadata": {},
     "output_type": "execute_result"
    }
   ],
   "source": [
    "remove_missing(o)"
   ]
  },
  {
   "cell_type": "markdown",
   "id": "fb5621bf",
   "metadata": {},
   "source": [
    "# P. Write a program to replace outliers in a numerical dataset with the mean value."
   ]
  },
  {
   "cell_type": "code",
   "execution_count": 56,
   "id": "e8615e6c",
   "metadata": {},
   "outputs": [],
   "source": [
    "p = [0,4,6,3,8,2,1,5]"
   ]
  },
  {
   "cell_type": "code",
   "execution_count": 57,
   "id": "69bbd5b0",
   "metadata": {},
   "outputs": [],
   "source": [
    "def replace_outliers_with_mean(list):\n",
    "    #Finding mean\n",
    "    val = 0\n",
    "    for i in list:\n",
    "        val += i\n",
    "    mean = val/len(list)\n",
    "    # Finding outliers\n",
    "    upper_range = np.percentile(list, 99)\n",
    "    lower_range = np.percentile(list, 1)\n",
    "    for x in range(len(list)):\n",
    "        if list[x] > upper_range or list[x] < lower_range:\n",
    "            list[x] = mean\n",
    "    return list\n"
   ]
  },
  {
   "cell_type": "code",
   "execution_count": 58,
   "id": "a6ca7ae6",
   "metadata": {},
   "outputs": [
    {
     "data": {
      "text/plain": [
       "[3.625, 4, 6, 3, 3.625, 2, 1, 5]"
      ]
     },
     "execution_count": 58,
     "metadata": {},
     "output_type": "execute_result"
    }
   ],
   "source": [
    "replace_outliers_with_mean(p)"
   ]
  },
  {
   "cell_type": "markdown",
   "id": "e029891c",
   "metadata": {},
   "source": [
    "#"
   ]
  },
  {
   "cell_type": "markdown",
   "id": "2167ba77",
   "metadata": {},
   "source": [
    "# Recursion:"
   ]
  },
  {
   "cell_type": "markdown",
   "id": "f38b57b8",
   "metadata": {},
   "source": [
    "### Q. Write a recursive function to calculate the factorial of a number."
   ]
  },
  {
   "cell_type": "code",
   "execution_count": 59,
   "id": "5f6db209",
   "metadata": {},
   "outputs": [],
   "source": [
    "q = 6"
   ]
  },
  {
   "cell_type": "code",
   "execution_count": 60,
   "id": "ed223ca0",
   "metadata": {},
   "outputs": [],
   "source": [
    "def factorial_of(num):\n",
    "    if num > 1:\n",
    "        return num * factorial_of(num-1)\n",
    "    else:\n",
    "        return 1"
   ]
  },
  {
   "cell_type": "code",
   "execution_count": 61,
   "id": "d351471a",
   "metadata": {},
   "outputs": [
    {
     "data": {
      "text/plain": [
       "720"
      ]
     },
     "execution_count": 61,
     "metadata": {},
     "output_type": "execute_result"
    }
   ],
   "source": [
    "factorial_of(q)"
   ]
  },
  {
   "cell_type": "markdown",
   "id": "0c7ad219",
   "metadata": {},
   "source": [
    "### R. Implement a recursive algorithm to find the nth Fibonacci number."
   ]
  },
  {
   "cell_type": "code",
   "execution_count": 62,
   "id": "54ee1027",
   "metadata": {},
   "outputs": [],
   "source": [
    "r = 16"
   ]
  },
  {
   "cell_type": "code",
   "execution_count": 63,
   "id": "6a575418",
   "metadata": {},
   "outputs": [],
   "source": [
    "def Fibonacci_number(num):\n",
    "    if num == 0:\n",
    "        return 0\n",
    "    if num == 1:\n",
    "        return 1\n",
    "    else:\n",
    "        return Fibonacci_number(num-1) + Fibonacci_number(num-2)"
   ]
  },
  {
   "cell_type": "code",
   "execution_count": 64,
   "id": "877aa7f9",
   "metadata": {},
   "outputs": [
    {
     "data": {
      "text/plain": [
       "987"
      ]
     },
     "execution_count": 64,
     "metadata": {},
     "output_type": "execute_result"
    }
   ],
   "source": [
    "Fibonacci_number(r)"
   ]
  },
  {
   "cell_type": "markdown",
   "id": "47e4fec7",
   "metadata": {},
   "source": [
    "# "
   ]
  },
  {
   "cell_type": "markdown",
   "id": "c5c0d9e7",
   "metadata": {},
   "source": [
    "# Data Transformation:"
   ]
  },
  {
   "cell_type": "markdown",
   "id": "b913e537",
   "metadata": {},
   "source": [
    "### S. Given a dictionary representing student grades, write a function to calculate the average grade."
   ]
  },
  {
   "cell_type": "code",
   "execution_count": 65,
   "id": "9874143b",
   "metadata": {},
   "outputs": [],
   "source": [
    "s = {'a':[9, 10, 11], 'b':[20,20,18, 18], 'c':[10,12,14]}"
   ]
  },
  {
   "cell_type": "code",
   "execution_count": 66,
   "id": "dc605136",
   "metadata": {},
   "outputs": [],
   "source": [
    "def calculate_average_grade(dict):\n",
    "    result = {}\n",
    "    for i, j in dict.items():\n",
    "        tot = 0\n",
    "        count = 0\n",
    "        for k in j:\n",
    "            tot += k\n",
    "            count += 1\n",
    "            if count > 0:\n",
    "                avg = tot/count\n",
    "                result[i] =avg\n",
    "    return result"
   ]
  },
  {
   "cell_type": "code",
   "execution_count": 67,
   "id": "501ffee9",
   "metadata": {},
   "outputs": [
    {
     "data": {
      "text/plain": [
       "{'a': 10.0, 'b': 19.0, 'c': 12.0}"
      ]
     },
     "execution_count": 67,
     "metadata": {},
     "output_type": "execute_result"
    }
   ],
   "source": [
    "calculate_average_grade(s)"
   ]
  },
  {
   "cell_type": "markdown",
   "id": "b8bac09e",
   "metadata": {},
   "source": [
    "### T. Implement a function to convert a list of Celsius temperatures to Fahrenheit."
   ]
  },
  {
   "cell_type": "code",
   "execution_count": 68,
   "id": "8eb6d488",
   "metadata": {},
   "outputs": [],
   "source": [
    "t = [34, 46,37,29,46,40]"
   ]
  },
  {
   "cell_type": "code",
   "execution_count": 69,
   "id": "7880d92f",
   "metadata": {},
   "outputs": [],
   "source": [
    "def c_to_f(list):\n",
    "    for i in range(len(list)):\n",
    "        list[i] = list[i] * 9/5 + 32\n",
    "    return list"
   ]
  },
  {
   "cell_type": "code",
   "execution_count": 70,
   "id": "fe14b376",
   "metadata": {},
   "outputs": [
    {
     "data": {
      "text/plain": [
       "[93.2, 114.8, 98.6, 84.2, 114.8, 104.0]"
      ]
     },
     "execution_count": 70,
     "metadata": {},
     "output_type": "execute_result"
    }
   ],
   "source": [
    "c_to_f(t)"
   ]
  },
  {
   "cell_type": "code",
   "execution_count": null,
   "id": "2765ea71",
   "metadata": {},
   "outputs": [],
   "source": []
  },
  {
   "cell_type": "code",
   "execution_count": null,
   "id": "b6d9d183",
   "metadata": {},
   "outputs": [],
   "source": []
  },
  {
   "cell_type": "code",
   "execution_count": null,
   "id": "f0d9545a",
   "metadata": {},
   "outputs": [],
   "source": []
  },
  {
   "cell_type": "markdown",
   "id": "de0c8637",
   "metadata": {},
   "source": [
    "# ________________________________________________________________"
   ]
  },
  {
   "cell_type": "markdown",
   "id": "7f77f760",
   "metadata": {},
   "source": [
    "### Write a UDF that takes list as input and returns sum of all numbers (exclude bool) and count of all str \n",
    "    [2, 3, 'Py', '10', 1, 'SQL', 5.5, True, 3, 'John', None, 7] \n"
   ]
  },
  {
   "cell_type": "code",
   "execution_count": 71,
   "id": "6b0a8535",
   "metadata": {},
   "outputs": [
    {
     "name": "stdout",
     "output_type": "stream",
     "text": [
      "{'str_count': 4, 'num_sum': 22.5}\n"
     ]
    }
   ],
   "source": [
    "l1 = [2, 3, 'Py', '10', 1, 'SQL', 5.5, True, 3, 'John', None, 7]\n",
    "\n",
    "\n",
    "def sum_numbers_and_count_strings(list_a):\n",
    "    # list_a is list or an array\n",
    "    l = {'str_count': 0, 'num_sum':0}\n",
    "    for i in list_a:\n",
    "        if isinstance(i, str):\n",
    "            l['str_count'] += 1\n",
    "        elif isinstance(i, int) or isinstance(i, float):\n",
    "            l['num_sum'] += i\n",
    "    print(l)\n",
    "\n",
    "sum_numbers_and_count_strings(l1)"
   ]
  },
  {
   "cell_type": "markdown",
   "id": "601655e7",
   "metadata": {},
   "source": [
    "### Get only odd numbers from the following list and store the numbers in new list (Use lambda function with filter)"
   ]
  },
  {
   "cell_type": "code",
   "execution_count": 72,
   "id": "9a5c407d",
   "metadata": {},
   "outputs": [
    {
     "data": {
      "text/plain": [
       "[5, 7, 97, 77, 23, 73, 61]"
      ]
     },
     "execution_count": 72,
     "metadata": {},
     "output_type": "execute_result"
    }
   ],
   "source": [
    "li = [5, 7, 22, 97, 54, 62, 77, 23, 73, 61]\n",
    "\n",
    "\n",
    "# Use lambda function with filter\n",
    "\n",
    "list(filter(lambda x: x%2 == 1, li))"
   ]
  },
  {
   "cell_type": "code",
   "execution_count": null,
   "id": "2f20702e",
   "metadata": {},
   "outputs": [],
   "source": []
  }
 ],
 "metadata": {
  "kernelspec": {
   "display_name": "Python 3 (ipykernel)",
   "language": "python",
   "name": "python3"
  },
  "language_info": {
   "codemirror_mode": {
    "name": "ipython",
    "version": 3
   },
   "file_extension": ".py",
   "mimetype": "text/x-python",
   "name": "python",
   "nbconvert_exporter": "python",
   "pygments_lexer": "ipython3",
   "version": "3.10.9"
  }
 },
 "nbformat": 4,
 "nbformat_minor": 5
}
