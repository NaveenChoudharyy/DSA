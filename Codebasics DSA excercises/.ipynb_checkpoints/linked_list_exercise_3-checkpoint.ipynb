{
 "cells": [
  {
   "cell_type": "markdown",
   "id": "8cf5c60d",
   "metadata": {},
   "source": [
    "# Exercise: Linked List\n",
    "\n",
    "1. In [LinkedList class](https://github.com/codebasics/data-structures-algorithms-python/blob/master/data_structures/3_LinkedList/3_linked_list.py) that we implemented in our tutorial add following two methods,\n",
    "```\n",
    "def insert_after_value(self, data_after, data_to_insert):\n",
    "    # Search for first occurance of data_after value in linked list\n",
    "    # Now insert data_to_insert after data_after node\n",
    "\n",
    "def remove_by_value(self, data):\n",
    "    # Remove first node that contains data\n",
    "```\n",
    "Now make following calls,\n",
    "```\n",
    "    ll = LinkedList()\n",
    "    ll.insert_values([\"banana\",\"mango\",\"grapes\",\"orange\"])\n",
    "    ll.print()\n",
    "    ll.insert_after_value(\"mango\",\"apple\") # insert apple after mango\n",
    "    ll.print()\n",
    "    ll.remove_by_value(\"orange\") # remove orange from linked list\n",
    "    ll.print()\n",
    "    ll.remove_by_value(\"figs\")\n",
    "    ll.print()\n",
    "    ll.remove_by_value(\"banana\")\n",
    "    ll.remove_by_value(\"mango\")\n",
    "    ll.remove_by_value(\"apple\")\n",
    "    ll.remove_by_value(\"grapes\")\n",
    "    ll.print()\n",
    "```\n",
    "[Solution](https://github.com/codebasics/data-structures-algorithms-python/blob/master/data_structures/3_LinkedList/Solution/singly_linked_list_exercise.py)\n",
    "\n",
    "2. Implement doubly linked list. The only difference with regular linked list is that double linked has prev node reference as well. That way you can iterate in forward and backward direction.\n",
    "Your node class will look this this,\n",
    "```\n",
    "class Node:\n",
    "    def __init__(self, data=None, next=None, prev=None):\n",
    "        self.data = data\n",
    "        self.next = next\n",
    "        self.prev = prev\n",
    "```\n",
    "Add following new methods,\n",
    "```\n",
    "def print_forward(self):\n",
    "    # This method prints list in forward direction. Use node.next\n",
    "\n",
    "def print_backward(self):\n",
    "    # Print linked list in reverse direction. Use node.prev for this.\n",
    "```\n",
    "Implement all other methods in [regular linked list class](https://github.com/codebasics/data-structures-algorithms-python/blob/master/data_structures/3_LinkedList/3_linked_list.py) and make necessary changes for doubly linked list (you need to populate node.prev in all those methods)\n",
    "\n",
    "[Solution](https://github.com/codebasics/data-structures-algorithms-python/blob/master/data_structures/3_LinkedList/Solution/doubly_linked_list_exercise.py)"
   ]
  },
  {
   "cell_type": "markdown",
   "id": "dd791677",
   "metadata": {},
   "source": [
    "#\n",
    "#"
   ]
  },
  {
   "cell_type": "code",
   "execution_count": 2,
   "id": "7ac2a86d",
   "metadata": {},
   "outputs": [],
   "source": [
    "class Node:\n",
    "    def __init__(self, data=None, next=None):\n",
    "        self.data = data\n",
    "        self.next = next\n",
    "        \n",
    "class LinkedList:\n",
    "    def __init__(self):\n",
    "        self.head = None\n",
    "        \n",
    "    def in"
   ]
  },
  {
   "cell_type": "code",
   "execution_count": null,
   "id": "0168fcaf",
   "metadata": {},
   "outputs": [],
   "source": []
  },
  {
   "cell_type": "code",
   "execution_count": null,
   "id": "44d54fe9",
   "metadata": {},
   "outputs": [],
   "source": []
  }
 ],
 "metadata": {
  "kernelspec": {
   "display_name": "Python 3 (ipykernel)",
   "language": "python",
   "name": "python3"
  },
  "language_info": {
   "codemirror_mode": {
    "name": "ipython",
    "version": 3
   },
   "file_extension": ".py",
   "mimetype": "text/x-python",
   "name": "python",
   "nbconvert_exporter": "python",
   "pygments_lexer": "ipython3",
   "version": "3.11.5"
  }
 },
 "nbformat": 4,
 "nbformat_minor": 5
}
